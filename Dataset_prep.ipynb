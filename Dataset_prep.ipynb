{
  "nbformat": 4,
  "nbformat_minor": 0,
  "metadata": {
    "colab": {
      "provenance": [],
      "machine_shape": "hm"
    },
    "kernelspec": {
      "name": "python3",
      "display_name": "Python 3"
    },
    "language_info": {
      "name": "python"
    },
    "gpuClass": "standard"
  },
  "cells": [
    {
      "cell_type": "code",
      "source": [
        "#link google colab with google drive\n",
        "from google.colab import drive\n",
        "drive.mount('/content/drive')"
      ],
      "metadata": {
        "colab": {
          "base_uri": "https://localhost:8080/"
        },
        "id": "welHNtJDrU5p",
        "outputId": "b621e3c8-0a4a-4a33-82b1-be378c1c5ebe"
      },
      "execution_count": 1,
      "outputs": [
        {
          "output_type": "stream",
          "name": "stdout",
          "text": [
            "Mounted at /content/drive\n"
          ]
        }
      ]
    },
    {
      "cell_type": "code",
      "source": [
        "import cv2\n",
        "import numpy as np\n",
        "import os\n",
        "import matplotlib.pyplot as plt\n",
        "from PIL import Image"
      ],
      "metadata": {
        "id": "Lg6bdJOLrxzm"
      },
      "execution_count": 2,
      "outputs": []
    },
    {
      "cell_type": "code",
      "source": [
        "train_DME_dir = \"/content/drive/MyDrive/Data_Small2/train/DME/\" \n",
        "train_DRUSEN_dir = \"/content/drive/MyDrive/Data_Small2/train/DRUSEN/\" \n",
        "\n",
        "test_DME_dir = \"/content/drive/MyDrive/Data_Small2/test/DME/\" \n",
        "test_DRUSEN_dir = \"/content/drive/MyDrive/Data_Small2/test/DRUSEN/\" \n",
        "\n",
        "val_DME_dir = \"/content/drive/MyDrive/Data_Small2/val/DME/\" \n",
        "val_DRUSEN_dir = \"/content/drive/MyDrive/Data_Small2/val/DRUSEN/\" "
      ],
      "metadata": {
        "id": "YQ21oU96rz87"
      },
      "execution_count": 3,
      "outputs": []
    },
    {
      "cell_type": "code",
      "execution_count": 10,
      "metadata": {
        "id": "qdi0CRdsrClx"
      },
      "outputs": [],
      "source": [
        "for img in os.listdir( test_DME_dir):\n",
        "    image = Image.open(test_DME_dir + img)\n",
        "\n",
        "    hr_image_resized = image.resize((128, 128))\n",
        "    hr_image_resized.save(\"/content/drive/MyDrive/Data_Full/hr_images/\"+img)\n",
        "\n",
        "    lr_image_resized = image.resize((32, 32))\n",
        "    lr_image_resized.save(\"/content/drive/MyDrive/Data_Small2/lr_images/test/DME/\"+img)"
      ]
    },
    {
      "cell_type": "code",
      "source": [
        "for img in os.listdir( test_DRUSEN_dir):\n",
        "    image = Image.open(test_DRUSEN_dir + img)\n",
        "\n",
        "    hr_image_resized = image.resize((128, 128))\n",
        "    hr_image_resized.save(\"/content/drive/MyDrive/Data_Full/hr_images/\"+img)\n",
        "\n",
        "    lr_image_resized = image.resize((32, 32))\n",
        "    lr_image_resized.save(\"/content/drive/MyDrive/Data_Small2/lr_images/test/DRUSEN/\"+img)"
      ],
      "metadata": {
        "id": "GixEQnxrXtR8"
      },
      "execution_count": 9,
      "outputs": []
    },
    {
      "cell_type": "code",
      "source": [],
      "metadata": {
        "id": "Vz-a1IbelzLX"
      },
      "execution_count": null,
      "outputs": []
    }
  ]
}