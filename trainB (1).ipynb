{
  "nbformat": 4,
  "nbformat_minor": 0,
  "metadata": {
    "colab": {
      "provenance": []
    },
    "kernelspec": {
      "name": "python3",
      "display_name": "Python 3"
    },
    "language_info": {
      "name": "python"
    },
    "gpuClass": "standard"
  },
  "cells": [
    {
      "cell_type": "code",
      "execution_count": 2,
      "metadata": {
        "colab": {
          "base_uri": "https://localhost:8080/"
        },
        "id": "KjYhYC9hr67q",
        "outputId": "550e14c7-ee01-470f-e504-f581491b65fe"
      },
      "outputs": [
        {
          "output_type": "stream",
          "name": "stdout",
          "text": [
            "Mounted at /content/drive\n"
          ]
        }
      ],
      "source": [
        "#link google colab with google drive\n",
        "from google.colab import drive\n",
        "drive.mount('/content/drive')"
      ]
    },
    {
      "cell_type": "code",
      "source": [
        "#first to import libraries\n",
        "from keras.layers import Input, Lambda, Dense, Flatten, GlobalAveragePooling2D\n",
        "from keras.models import Model\n",
        "from keras.optimizers import SGD\n",
        "from keras.applications.vgg16 import VGG16\n",
        "from keras.applications.vgg16 import preprocess_input\n",
        "from keras.preprocessing import image\n",
        "from keras.preprocessing.image import ImageDataGenerator\n",
        "from keras.models import Sequential\n",
        "import numpy as np\n",
        "from glob import glob\n",
        "import matplotlib.pyplot as plt\n",
        "from sklearn.metrics import classification_report, confusion_matrix\n",
        "\n",
        "\n",
        "import warnings   \n",
        "warnings.filterwarnings(\"ignore\", category=FutureWarning)"
      ],
      "metadata": {
        "id": "AGEbNOCkssQO"
      },
      "execution_count": 11,
      "outputs": []
    },
    {
      "cell_type": "code",
      "source": [
        "train_data_dir = '/content/drive/MyDrive/Data_Small2/SRGAN_images/train'\n",
        "val_data_dir = '/content/drive/MyDrive/Data_Small2/SRGAN_images/val'\n",
        "test_data_dir = '/content/drive/MyDrive/Data_Small2/SRGAN_images/test'\n",
        "img_width, img_height = 128, 128\n",
        "batch_size = 32"
      ],
      "metadata": {
        "id": "tBjF7VUZzBSG"
      },
      "execution_count": 4,
      "outputs": []
    },
    {
      "cell_type": "code",
      "source": [
        "# Preprocess the data\n",
        "train_datagen = ImageDataGenerator(rescale=1./255)\n",
        "val_datagen = ImageDataGenerator(rescale=1./255)\n",
        "test_datagen = ImageDataGenerator(rescale=1./255)"
      ],
      "metadata": {
        "id": "z9b_sGzrzBQf"
      },
      "execution_count": 5,
      "outputs": []
    },
    {
      "cell_type": "code",
      "source": [
        "train_generator = train_datagen.flow_from_directory(\n",
        "        train_data_dir,\n",
        "        target_size=(img_width, img_height),\n",
        "        batch_size=batch_size,\n",
        "        class_mode='categorical')\n",
        "\n",
        "val_generator = val_datagen.flow_from_directory(\n",
        "        val_data_dir,\n",
        "        target_size=(img_width, img_height),\n",
        "        batch_size=batch_size,\n",
        "        class_mode='categorical')\n",
        "\n",
        "test_generator = test_datagen.flow_from_directory(\n",
        "        test_data_dir,\n",
        "        target_size=(img_width, img_height),\n",
        "        batch_size=batch_size,\n",
        "        class_mode='categorical')"
      ],
      "metadata": {
        "colab": {
          "base_uri": "https://localhost:8080/"
        },
        "id": "k5pRHaKyzBNa",
        "outputId": "de6ee683-b061-4165-f3ba-bf71072660b3"
      },
      "execution_count": 23,
      "outputs": [
        {
          "output_type": "stream",
          "name": "stdout",
          "text": [
            "Found 2014 images belonging to 2 classes.\n",
            "Found 302 images belonging to 2 classes.\n",
            "Found 514 images belonging to 2 classes.\n"
          ]
        }
      ]
    },
    {
      "cell_type": "code",
      "source": [
        "# Load the VGG16 model\n",
        "base_model = VGG16(weights='imagenet', include_top=False, input_shape=(img_width, img_height, 3))"
      ],
      "metadata": {
        "id": "Q9Fh1kBuzBKj"
      },
      "execution_count": 24,
      "outputs": []
    },
    {
      "cell_type": "code",
      "source": [
        "# Add new layers\n",
        "x = base_model.output\n",
        "x = GlobalAveragePooling2D()(x)\n",
        "x = Dense(1024, activation='relu')(x)\n",
        "predictions = Dense(train_generator.num_classes, activation='softmax')(x)"
      ],
      "metadata": {
        "id": "ivlmGMIWzBH7"
      },
      "execution_count": 25,
      "outputs": []
    },
    {
      "cell_type": "code",
      "source": [
        "# Create a new model\n",
        "modelB = Model(inputs=base_model.input, outputs=predictions)"
      ],
      "metadata": {
        "id": "aeGaRDgRzBA8"
      },
      "execution_count": 26,
      "outputs": []
    },
    {
      "cell_type": "code",
      "source": [
        "# Freeze layers\n",
        "for layer in base_model.layers:\n",
        "    layer.trainable = False "
      ],
      "metadata": {
        "id": "mC0X--IIz9RY"
      },
      "execution_count": 27,
      "outputs": []
    },
    {
      "cell_type": "code",
      "source": [
        "# Compile the model\n",
        "modelB.compile(optimizer=SGD(lr=0.0001, momentum=0.9), loss='categorical_crossentropy', metrics=['accuracy'])"
      ],
      "metadata": {
        "colab": {
          "base_uri": "https://localhost:8080/"
        },
        "id": "HoWD-IxJz9PH",
        "outputId": "8b8ab213-69f4-4afd-b87e-940fa53c7783"
      },
      "execution_count": 28,
      "outputs": [
        {
          "output_type": "stream",
          "name": "stderr",
          "text": [
            "/usr/local/lib/python3.9/dist-packages/keras/optimizers/optimizer_v2/gradient_descent.py:114: UserWarning: The `lr` argument is deprecated, use `learning_rate` instead.\n",
            "  super().__init__(name, **kwargs)\n"
          ]
        }
      ]
    },
    {
      "cell_type": "code",
      "source": [
        "# Train the model\n",
        "modelB.fit_generator(\n",
        "        train_generator,\n",
        "        steps_per_epoch=train_generator.samples // batch_size,\n",
        "        epochs=150,\n",
        "        validation_data=val_generator,\n",
        "        validation_steps=val_generator.samples // batch_size)"
      ],
      "metadata": {
        "colab": {
          "base_uri": "https://localhost:8080/"
        },
        "id": "4b-hUVi6z9MX",
        "outputId": "f73961df-05a0-4c49-cf4e-c983d4fe4fe9"
      },
      "execution_count": 29,
      "outputs": [
        {
          "output_type": "stream",
          "name": "stderr",
          "text": [
            "<ipython-input-29-8a0d9c09a9b6>:2: UserWarning: `Model.fit_generator` is deprecated and will be removed in a future version. Please use `Model.fit`, which supports generators.\n",
            "  modelB.fit_generator(\n"
          ]
        },
        {
          "output_type": "stream",
          "name": "stdout",
          "text": [
            "Epoch 1/150\n",
            "62/62 [==============================] - 5s 68ms/step - loss: 0.6790 - accuracy: 0.5732 - val_loss: 0.5271 - val_accuracy: 1.0000\n",
            "Epoch 2/150\n",
            "62/62 [==============================] - 4s 66ms/step - loss: 0.6663 - accuracy: 0.6014 - val_loss: 0.5172 - val_accuracy: 1.0000\n",
            "Epoch 3/150\n",
            "62/62 [==============================] - 4s 66ms/step - loss: 0.6616 - accuracy: 0.6019 - val_loss: 0.4913 - val_accuracy: 1.0000\n",
            "Epoch 4/150\n",
            "62/62 [==============================] - 4s 62ms/step - loss: 0.6583 - accuracy: 0.6019 - val_loss: 0.5188 - val_accuracy: 1.0000\n",
            "Epoch 5/150\n",
            "62/62 [==============================] - 4s 62ms/step - loss: 0.6566 - accuracy: 0.6014 - val_loss: 0.4763 - val_accuracy: 1.0000\n",
            "Epoch 6/150\n",
            "62/62 [==============================] - 5s 75ms/step - loss: 0.6549 - accuracy: 0.6009 - val_loss: 0.4777 - val_accuracy: 1.0000\n",
            "Epoch 7/150\n",
            "62/62 [==============================] - 4s 63ms/step - loss: 0.6525 - accuracy: 0.6039 - val_loss: 0.4785 - val_accuracy: 1.0000\n",
            "Epoch 8/150\n",
            "62/62 [==============================] - 4s 64ms/step - loss: 0.6491 - accuracy: 0.6054 - val_loss: 0.4587 - val_accuracy: 1.0000\n",
            "Epoch 9/150\n",
            "62/62 [==============================] - 4s 70ms/step - loss: 0.6485 - accuracy: 0.6024 - val_loss: 0.5143 - val_accuracy: 0.9965\n",
            "Epoch 10/150\n",
            "62/62 [==============================] - 4s 63ms/step - loss: 0.6459 - accuracy: 0.6054 - val_loss: 0.5297 - val_accuracy: 0.9931\n",
            "Epoch 11/150\n",
            "62/62 [==============================] - 4s 63ms/step - loss: 0.6448 - accuracy: 0.6140 - val_loss: 0.4987 - val_accuracy: 1.0000\n",
            "Epoch 12/150\n",
            "62/62 [==============================] - 4s 68ms/step - loss: 0.6422 - accuracy: 0.6070 - val_loss: 0.5466 - val_accuracy: 0.9514\n",
            "Epoch 13/150\n",
            "62/62 [==============================] - 4s 65ms/step - loss: 0.6421 - accuracy: 0.6260 - val_loss: 0.4653 - val_accuracy: 1.0000\n",
            "Epoch 14/150\n",
            "62/62 [==============================] - 4s 63ms/step - loss: 0.6389 - accuracy: 0.6100 - val_loss: 0.4930 - val_accuracy: 1.0000\n",
            "Epoch 15/150\n",
            "62/62 [==============================] - 4s 64ms/step - loss: 0.6372 - accuracy: 0.6165 - val_loss: 0.4682 - val_accuracy: 1.0000\n",
            "Epoch 16/150\n",
            "62/62 [==============================] - 4s 70ms/step - loss: 0.6344 - accuracy: 0.6120 - val_loss: 0.5007 - val_accuracy: 0.9931\n",
            "Epoch 17/150\n",
            "62/62 [==============================] - 4s 64ms/step - loss: 0.6331 - accuracy: 0.6271 - val_loss: 0.4619 - val_accuracy: 1.0000\n",
            "Epoch 18/150\n",
            "62/62 [==============================] - 4s 64ms/step - loss: 0.6325 - accuracy: 0.6196 - val_loss: 0.5044 - val_accuracy: 0.9757\n",
            "Epoch 19/150\n",
            "62/62 [==============================] - 4s 70ms/step - loss: 0.6299 - accuracy: 0.6317 - val_loss: 0.5033 - val_accuracy: 0.9618\n",
            "Epoch 20/150\n",
            "62/62 [==============================] - 4s 63ms/step - loss: 0.6294 - accuracy: 0.6307 - val_loss: 0.4184 - val_accuracy: 1.0000\n",
            "Epoch 21/150\n",
            "62/62 [==============================] - 4s 64ms/step - loss: 0.6265 - accuracy: 0.6307 - val_loss: 0.5257 - val_accuracy: 0.9271\n",
            "Epoch 22/150\n",
            "62/62 [==============================] - 4s 67ms/step - loss: 0.6260 - accuracy: 0.6357 - val_loss: 0.4531 - val_accuracy: 1.0000\n",
            "Epoch 23/150\n",
            "62/62 [==============================] - 4s 65ms/step - loss: 0.6241 - accuracy: 0.6428 - val_loss: 0.5074 - val_accuracy: 0.9375\n",
            "Epoch 24/150\n",
            "62/62 [==============================] - 4s 62ms/step - loss: 0.6227 - accuracy: 0.6393 - val_loss: 0.4497 - val_accuracy: 1.0000\n",
            "Epoch 25/150\n",
            "62/62 [==============================] - 4s 63ms/step - loss: 0.6213 - accuracy: 0.6403 - val_loss: 0.4497 - val_accuracy: 0.9965\n",
            "Epoch 26/150\n",
            "62/62 [==============================] - 4s 68ms/step - loss: 0.6189 - accuracy: 0.6398 - val_loss: 0.4679 - val_accuracy: 0.9861\n",
            "Epoch 27/150\n",
            "62/62 [==============================] - 4s 63ms/step - loss: 0.6195 - accuracy: 0.6448 - val_loss: 0.5123 - val_accuracy: 0.9271\n",
            "Epoch 28/150\n",
            "62/62 [==============================] - 4s 63ms/step - loss: 0.6177 - accuracy: 0.6579 - val_loss: 0.4878 - val_accuracy: 0.9375\n",
            "Epoch 29/150\n",
            "62/62 [==============================] - 4s 69ms/step - loss: 0.6157 - accuracy: 0.6615 - val_loss: 0.4193 - val_accuracy: 1.0000\n",
            "Epoch 30/150\n",
            "62/62 [==============================] - 4s 63ms/step - loss: 0.6150 - accuracy: 0.6483 - val_loss: 0.4479 - val_accuracy: 0.9861\n",
            "Epoch 31/150\n",
            "62/62 [==============================] - 4s 64ms/step - loss: 0.6129 - accuracy: 0.6594 - val_loss: 0.4428 - val_accuracy: 0.9861\n",
            "Epoch 32/150\n",
            "62/62 [==============================] - 4s 67ms/step - loss: 0.6114 - accuracy: 0.6589 - val_loss: 0.4466 - val_accuracy: 0.9861\n",
            "Epoch 33/150\n",
            "62/62 [==============================] - 4s 65ms/step - loss: 0.6116 - accuracy: 0.6660 - val_loss: 0.4908 - val_accuracy: 0.9271\n",
            "Epoch 34/150\n",
            "62/62 [==============================] - 4s 63ms/step - loss: 0.6087 - accuracy: 0.6680 - val_loss: 0.4741 - val_accuracy: 0.9340\n",
            "Epoch 35/150\n",
            "62/62 [==============================] - 4s 67ms/step - loss: 0.6081 - accuracy: 0.6675 - val_loss: 0.4547 - val_accuracy: 0.9549\n",
            "Epoch 36/150\n",
            "62/62 [==============================] - 4s 70ms/step - loss: 0.6082 - accuracy: 0.6761 - val_loss: 0.4302 - val_accuracy: 0.9896\n",
            "Epoch 37/150\n",
            "62/62 [==============================] - 4s 65ms/step - loss: 0.6062 - accuracy: 0.6670 - val_loss: 0.4659 - val_accuracy: 0.9340\n",
            "Epoch 38/150\n",
            "62/62 [==============================] - 4s 68ms/step - loss: 0.6034 - accuracy: 0.6726 - val_loss: 0.4564 - val_accuracy: 0.9410\n",
            "Epoch 39/150\n",
            "62/62 [==============================] - 4s 71ms/step - loss: 0.6037 - accuracy: 0.6857 - val_loss: 0.4251 - val_accuracy: 0.9792\n",
            "Epoch 40/150\n",
            "62/62 [==============================] - 4s 65ms/step - loss: 0.6034 - accuracy: 0.6625 - val_loss: 0.4573 - val_accuracy: 0.9375\n",
            "Epoch 41/150\n",
            "62/62 [==============================] - 4s 65ms/step - loss: 0.6019 - accuracy: 0.6726 - val_loss: 0.4888 - val_accuracy: 0.9132\n",
            "Epoch 42/150\n",
            "62/62 [==============================] - 4s 71ms/step - loss: 0.5997 - accuracy: 0.6852 - val_loss: 0.4651 - val_accuracy: 0.9271\n",
            "Epoch 43/150\n",
            "62/62 [==============================] - 4s 63ms/step - loss: 0.5990 - accuracy: 0.6811 - val_loss: 0.4695 - val_accuracy: 0.9271\n",
            "Epoch 44/150\n",
            "62/62 [==============================] - 4s 62ms/step - loss: 0.5974 - accuracy: 0.6776 - val_loss: 0.4587 - val_accuracy: 0.9340\n",
            "Epoch 45/150\n",
            "62/62 [==============================] - 4s 67ms/step - loss: 0.5966 - accuracy: 0.6902 - val_loss: 0.4507 - val_accuracy: 0.9375\n",
            "Epoch 46/150\n",
            "62/62 [==============================] - 4s 67ms/step - loss: 0.5964 - accuracy: 0.6907 - val_loss: 0.4155 - val_accuracy: 0.9618\n",
            "Epoch 47/150\n",
            "62/62 [==============================] - 4s 63ms/step - loss: 0.5954 - accuracy: 0.6837 - val_loss: 0.5022 - val_accuracy: 0.8819\n",
            "Epoch 48/150\n",
            "62/62 [==============================] - 4s 65ms/step - loss: 0.5945 - accuracy: 0.6882 - val_loss: 0.4227 - val_accuracy: 0.9479\n",
            "Epoch 49/150\n",
            "62/62 [==============================] - 4s 68ms/step - loss: 0.5906 - accuracy: 0.6842 - val_loss: 0.5077 - val_accuracy: 0.8611\n",
            "Epoch 50/150\n",
            "62/62 [==============================] - 4s 63ms/step - loss: 0.5922 - accuracy: 0.6983 - val_loss: 0.4759 - val_accuracy: 0.9132\n",
            "Epoch 51/150\n",
            "62/62 [==============================] - 4s 64ms/step - loss: 0.5917 - accuracy: 0.6927 - val_loss: 0.4506 - val_accuracy: 0.9236\n",
            "Epoch 52/150\n",
            "62/62 [==============================] - 4s 71ms/step - loss: 0.5891 - accuracy: 0.6953 - val_loss: 0.4427 - val_accuracy: 0.9236\n",
            "Epoch 53/150\n",
            "62/62 [==============================] - 4s 67ms/step - loss: 0.5876 - accuracy: 0.7038 - val_loss: 0.3896 - val_accuracy: 0.9722\n",
            "Epoch 54/150\n",
            "62/62 [==============================] - 4s 66ms/step - loss: 0.5884 - accuracy: 0.6958 - val_loss: 0.4534 - val_accuracy: 0.9201\n",
            "Epoch 55/150\n",
            "62/62 [==============================] - 4s 72ms/step - loss: 0.5861 - accuracy: 0.7033 - val_loss: 0.4047 - val_accuracy: 0.9444\n",
            "Epoch 56/150\n",
            "62/62 [==============================] - 4s 63ms/step - loss: 0.5851 - accuracy: 0.6948 - val_loss: 0.4386 - val_accuracy: 0.9201\n",
            "Epoch 57/150\n",
            "62/62 [==============================] - 4s 64ms/step - loss: 0.5855 - accuracy: 0.7023 - val_loss: 0.4278 - val_accuracy: 0.9410\n",
            "Epoch 58/150\n",
            "62/62 [==============================] - 4s 69ms/step - loss: 0.5827 - accuracy: 0.6978 - val_loss: 0.4245 - val_accuracy: 0.9375\n",
            "Epoch 59/150\n",
            "62/62 [==============================] - 4s 66ms/step - loss: 0.5815 - accuracy: 0.7033 - val_loss: 0.3876 - val_accuracy: 0.9479\n",
            "Epoch 60/150\n",
            "62/62 [==============================] - 4s 65ms/step - loss: 0.5814 - accuracy: 0.7059 - val_loss: 0.4270 - val_accuracy: 0.9236\n",
            "Epoch 61/150\n",
            "62/62 [==============================] - 4s 67ms/step - loss: 0.5814 - accuracy: 0.7099 - val_loss: 0.4219 - val_accuracy: 0.9306\n",
            "Epoch 62/150\n",
            "62/62 [==============================] - 4s 66ms/step - loss: 0.5801 - accuracy: 0.7053 - val_loss: 0.4367 - val_accuracy: 0.9201\n",
            "Epoch 63/150\n",
            "62/62 [==============================] - 4s 63ms/step - loss: 0.5770 - accuracy: 0.7079 - val_loss: 0.4904 - val_accuracy: 0.8576\n",
            "Epoch 64/150\n",
            "62/62 [==============================] - 4s 63ms/step - loss: 0.5792 - accuracy: 0.7043 - val_loss: 0.4733 - val_accuracy: 0.8681\n",
            "Epoch 65/150\n",
            "62/62 [==============================] - 4s 70ms/step - loss: 0.5766 - accuracy: 0.7109 - val_loss: 0.4074 - val_accuracy: 0.9375\n",
            "Epoch 66/150\n",
            "62/62 [==============================] - 4s 64ms/step - loss: 0.5751 - accuracy: 0.7144 - val_loss: 0.4305 - val_accuracy: 0.9167\n",
            "Epoch 67/150\n",
            "62/62 [==============================] - 4s 65ms/step - loss: 0.5756 - accuracy: 0.7180 - val_loss: 0.4138 - val_accuracy: 0.9236\n",
            "Epoch 68/150\n",
            "62/62 [==============================] - 4s 70ms/step - loss: 0.5748 - accuracy: 0.7114 - val_loss: 0.4329 - val_accuracy: 0.9132\n",
            "Epoch 69/150\n",
            "62/62 [==============================] - 4s 64ms/step - loss: 0.5713 - accuracy: 0.7205 - val_loss: 0.4144 - val_accuracy: 0.9306\n",
            "Epoch 70/150\n",
            "62/62 [==============================] - 4s 65ms/step - loss: 0.5723 - accuracy: 0.7072 - val_loss: 0.3957 - val_accuracy: 0.9340\n",
            "Epoch 71/150\n",
            "62/62 [==============================] - 4s 67ms/step - loss: 0.5704 - accuracy: 0.7154 - val_loss: 0.4407 - val_accuracy: 0.9028\n",
            "Epoch 72/150\n",
            "62/62 [==============================] - 4s 66ms/step - loss: 0.5701 - accuracy: 0.7124 - val_loss: 0.4352 - val_accuracy: 0.9097\n",
            "Epoch 73/150\n",
            "62/62 [==============================] - 4s 63ms/step - loss: 0.5680 - accuracy: 0.7154 - val_loss: 0.4037 - val_accuracy: 0.9167\n",
            "Epoch 74/150\n",
            "62/62 [==============================] - 4s 69ms/step - loss: 0.5688 - accuracy: 0.7114 - val_loss: 0.4290 - val_accuracy: 0.9167\n",
            "Epoch 75/150\n",
            "62/62 [==============================] - 4s 67ms/step - loss: 0.5667 - accuracy: 0.7144 - val_loss: 0.4328 - val_accuracy: 0.9028\n",
            "Epoch 76/150\n",
            "62/62 [==============================] - 4s 63ms/step - loss: 0.5657 - accuracy: 0.7205 - val_loss: 0.4343 - val_accuracy: 0.9028\n",
            "Epoch 77/150\n",
            "62/62 [==============================] - 4s 65ms/step - loss: 0.5671 - accuracy: 0.7190 - val_loss: 0.4364 - val_accuracy: 0.8958\n",
            "Epoch 78/150\n",
            "62/62 [==============================] - 4s 68ms/step - loss: 0.5651 - accuracy: 0.7159 - val_loss: 0.4103 - val_accuracy: 0.9167\n",
            "Epoch 79/150\n",
            "62/62 [==============================] - 4s 64ms/step - loss: 0.5650 - accuracy: 0.7235 - val_loss: 0.4069 - val_accuracy: 0.9132\n",
            "Epoch 80/150\n",
            "62/62 [==============================] - 4s 66ms/step - loss: 0.5643 - accuracy: 0.7154 - val_loss: 0.4397 - val_accuracy: 0.8993\n",
            "Epoch 81/150\n",
            "62/62 [==============================] - 4s 67ms/step - loss: 0.5637 - accuracy: 0.7195 - val_loss: 0.4297 - val_accuracy: 0.8958\n",
            "Epoch 82/150\n",
            "62/62 [==============================] - 4s 63ms/step - loss: 0.5634 - accuracy: 0.7235 - val_loss: 0.4566 - val_accuracy: 0.8819\n",
            "Epoch 83/150\n",
            "62/62 [==============================] - 4s 64ms/step - loss: 0.5609 - accuracy: 0.7134 - val_loss: 0.4063 - val_accuracy: 0.9132\n",
            "Epoch 84/150\n",
            "62/62 [==============================] - 4s 69ms/step - loss: 0.5626 - accuracy: 0.7200 - val_loss: 0.3643 - val_accuracy: 0.9410\n",
            "Epoch 85/150\n",
            "62/62 [==============================] - 4s 64ms/step - loss: 0.5601 - accuracy: 0.7225 - val_loss: 0.3942 - val_accuracy: 0.9132\n",
            "Epoch 86/150\n",
            "62/62 [==============================] - 4s 64ms/step - loss: 0.5602 - accuracy: 0.7119 - val_loss: 0.3907 - val_accuracy: 0.9201\n",
            "Epoch 87/150\n",
            "62/62 [==============================] - 4s 70ms/step - loss: 0.5586 - accuracy: 0.7139 - val_loss: 0.3745 - val_accuracy: 0.9271\n",
            "Epoch 88/150\n",
            "62/62 [==============================] - 4s 64ms/step - loss: 0.5582 - accuracy: 0.7240 - val_loss: 0.4367 - val_accuracy: 0.8819\n",
            "Epoch 89/150\n",
            "62/62 [==============================] - 4s 65ms/step - loss: 0.5572 - accuracy: 0.7200 - val_loss: 0.4648 - val_accuracy: 0.8542\n",
            "Epoch 90/150\n",
            "62/62 [==============================] - 4s 69ms/step - loss: 0.5558 - accuracy: 0.7275 - val_loss: 0.4143 - val_accuracy: 0.9062\n",
            "Epoch 91/150\n",
            "62/62 [==============================] - 4s 65ms/step - loss: 0.5551 - accuracy: 0.7275 - val_loss: 0.4356 - val_accuracy: 0.8785\n",
            "Epoch 92/150\n",
            "62/62 [==============================] - 4s 63ms/step - loss: 0.5555 - accuracy: 0.7205 - val_loss: 0.4870 - val_accuracy: 0.8125\n",
            "Epoch 93/150\n",
            "62/62 [==============================] - 4s 66ms/step - loss: 0.5537 - accuracy: 0.7200 - val_loss: 0.4380 - val_accuracy: 0.8785\n",
            "Epoch 94/150\n",
            "62/62 [==============================] - 4s 67ms/step - loss: 0.5516 - accuracy: 0.7291 - val_loss: 0.4065 - val_accuracy: 0.8993\n",
            "Epoch 95/150\n",
            "62/62 [==============================] - 4s 63ms/step - loss: 0.5513 - accuracy: 0.7245 - val_loss: 0.4067 - val_accuracy: 0.9062\n",
            "Epoch 96/150\n",
            "62/62 [==============================] - 4s 64ms/step - loss: 0.5524 - accuracy: 0.7164 - val_loss: 0.4389 - val_accuracy: 0.8785\n",
            "Epoch 97/150\n",
            "62/62 [==============================] - 4s 71ms/step - loss: 0.5499 - accuracy: 0.7306 - val_loss: 0.4066 - val_accuracy: 0.8993\n",
            "Epoch 98/150\n",
            "62/62 [==============================] - 4s 65ms/step - loss: 0.5493 - accuracy: 0.7250 - val_loss: 0.4040 - val_accuracy: 0.8993\n",
            "Epoch 99/150\n",
            "62/62 [==============================] - 4s 63ms/step - loss: 0.5499 - accuracy: 0.7235 - val_loss: 0.3884 - val_accuracy: 0.9132\n",
            "Epoch 100/150\n",
            "62/62 [==============================] - 4s 70ms/step - loss: 0.5474 - accuracy: 0.7281 - val_loss: 0.4377 - val_accuracy: 0.8681\n",
            "Epoch 101/150\n",
            "62/62 [==============================] - 4s 63ms/step - loss: 0.5483 - accuracy: 0.7270 - val_loss: 0.3905 - val_accuracy: 0.9097\n",
            "Epoch 102/150\n",
            "62/62 [==============================] - 4s 63ms/step - loss: 0.5451 - accuracy: 0.7286 - val_loss: 0.4387 - val_accuracy: 0.8646\n",
            "Epoch 103/150\n",
            "62/62 [==============================] - 4s 67ms/step - loss: 0.5463 - accuracy: 0.7281 - val_loss: 0.3907 - val_accuracy: 0.9097\n",
            "Epoch 104/150\n",
            "62/62 [==============================] - 4s 65ms/step - loss: 0.5474 - accuracy: 0.7275 - val_loss: 0.4237 - val_accuracy: 0.8750\n",
            "Epoch 105/150\n",
            "62/62 [==============================] - 4s 64ms/step - loss: 0.5445 - accuracy: 0.7220 - val_loss: 0.5017 - val_accuracy: 0.7708\n",
            "Epoch 106/150\n",
            "62/62 [==============================] - 4s 67ms/step - loss: 0.5444 - accuracy: 0.7316 - val_loss: 0.4158 - val_accuracy: 0.8854\n",
            "Epoch 107/150\n",
            "62/62 [==============================] - 4s 66ms/step - loss: 0.5443 - accuracy: 0.7250 - val_loss: 0.4172 - val_accuracy: 0.8924\n",
            "Epoch 108/150\n",
            "62/62 [==============================] - 4s 64ms/step - loss: 0.5436 - accuracy: 0.7336 - val_loss: 0.3990 - val_accuracy: 0.9028\n",
            "Epoch 109/150\n",
            "62/62 [==============================] - 4s 65ms/step - loss: 0.5432 - accuracy: 0.7263 - val_loss: 0.4248 - val_accuracy: 0.8750\n",
            "Epoch 110/150\n",
            "62/62 [==============================] - 4s 69ms/step - loss: 0.5411 - accuracy: 0.7291 - val_loss: 0.4502 - val_accuracy: 0.8472\n",
            "Epoch 111/150\n",
            "62/62 [==============================] - 4s 65ms/step - loss: 0.5401 - accuracy: 0.7351 - val_loss: 0.3967 - val_accuracy: 0.9028\n",
            "Epoch 112/150\n",
            "62/62 [==============================] - 4s 64ms/step - loss: 0.5416 - accuracy: 0.7291 - val_loss: 0.4253 - val_accuracy: 0.8646\n",
            "Epoch 113/150\n",
            "62/62 [==============================] - 4s 71ms/step - loss: 0.5402 - accuracy: 0.7255 - val_loss: 0.4137 - val_accuracy: 0.8750\n",
            "Epoch 114/150\n",
            "62/62 [==============================] - 4s 64ms/step - loss: 0.5381 - accuracy: 0.7306 - val_loss: 0.3848 - val_accuracy: 0.9028\n",
            "Epoch 115/150\n",
            "62/62 [==============================] - 4s 64ms/step - loss: 0.5385 - accuracy: 0.7291 - val_loss: 0.3948 - val_accuracy: 0.8993\n",
            "Epoch 116/150\n",
            "62/62 [==============================] - 4s 70ms/step - loss: 0.5395 - accuracy: 0.7321 - val_loss: 0.4022 - val_accuracy: 0.8889\n",
            "Epoch 117/150\n",
            "62/62 [==============================] - 4s 65ms/step - loss: 0.5377 - accuracy: 0.7311 - val_loss: 0.3744 - val_accuracy: 0.9062\n",
            "Epoch 118/150\n",
            "62/62 [==============================] - 4s 66ms/step - loss: 0.5379 - accuracy: 0.7336 - val_loss: 0.3823 - val_accuracy: 0.9028\n",
            "Epoch 119/150\n",
            "62/62 [==============================] - 4s 67ms/step - loss: 0.5370 - accuracy: 0.7356 - val_loss: 0.3749 - val_accuracy: 0.9062\n",
            "Epoch 120/150\n",
            "62/62 [==============================] - 4s 67ms/step - loss: 0.5370 - accuracy: 0.7301 - val_loss: 0.4222 - val_accuracy: 0.8611\n",
            "Epoch 121/150\n",
            "62/62 [==============================] - 4s 63ms/step - loss: 0.5338 - accuracy: 0.7371 - val_loss: 0.3833 - val_accuracy: 0.9028\n",
            "Epoch 122/150\n",
            "62/62 [==============================] - 4s 64ms/step - loss: 0.5346 - accuracy: 0.7296 - val_loss: 0.3567 - val_accuracy: 0.9167\n",
            "Epoch 123/150\n",
            "62/62 [==============================] - 4s 69ms/step - loss: 0.5338 - accuracy: 0.7376 - val_loss: 0.3819 - val_accuracy: 0.8958\n",
            "Epoch 124/150\n",
            "62/62 [==============================] - 4s 64ms/step - loss: 0.5330 - accuracy: 0.7331 - val_loss: 0.3889 - val_accuracy: 0.8854\n",
            "Epoch 125/150\n",
            "62/62 [==============================] - 4s 65ms/step - loss: 0.5324 - accuracy: 0.7331 - val_loss: 0.4210 - val_accuracy: 0.8681\n",
            "Epoch 126/150\n",
            "62/62 [==============================] - 5s 74ms/step - loss: 0.5316 - accuracy: 0.7376 - val_loss: 0.4036 - val_accuracy: 0.8785\n",
            "Epoch 127/150\n",
            "62/62 [==============================] - 4s 67ms/step - loss: 0.5305 - accuracy: 0.7341 - val_loss: 0.4227 - val_accuracy: 0.8576\n",
            "Epoch 128/150\n",
            "62/62 [==============================] - 4s 66ms/step - loss: 0.5311 - accuracy: 0.7386 - val_loss: 0.3925 - val_accuracy: 0.8854\n",
            "Epoch 129/150\n",
            "62/62 [==============================] - 4s 71ms/step - loss: 0.5293 - accuracy: 0.7366 - val_loss: 0.4087 - val_accuracy: 0.8681\n",
            "Epoch 130/150\n",
            "62/62 [==============================] - 4s 65ms/step - loss: 0.5304 - accuracy: 0.7376 - val_loss: 0.3636 - val_accuracy: 0.9028\n",
            "Epoch 131/150\n",
            "62/62 [==============================] - 4s 65ms/step - loss: 0.5297 - accuracy: 0.7331 - val_loss: 0.3638 - val_accuracy: 0.9062\n",
            "Epoch 132/150\n",
            "62/62 [==============================] - 4s 69ms/step - loss: 0.5284 - accuracy: 0.7361 - val_loss: 0.4001 - val_accuracy: 0.8715\n",
            "Epoch 133/150\n",
            "62/62 [==============================] - 4s 68ms/step - loss: 0.5300 - accuracy: 0.7351 - val_loss: 0.3731 - val_accuracy: 0.8993\n",
            "Epoch 134/150\n",
            "62/62 [==============================] - 4s 64ms/step - loss: 0.5280 - accuracy: 0.7407 - val_loss: 0.3904 - val_accuracy: 0.8819\n",
            "Epoch 135/150\n",
            "62/62 [==============================] - 4s 65ms/step - loss: 0.5255 - accuracy: 0.7437 - val_loss: 0.3703 - val_accuracy: 0.8993\n",
            "Epoch 136/150\n",
            "62/62 [==============================] - 4s 68ms/step - loss: 0.5262 - accuracy: 0.7346 - val_loss: 0.4033 - val_accuracy: 0.8715\n",
            "Epoch 137/150\n",
            "62/62 [==============================] - 4s 64ms/step - loss: 0.5250 - accuracy: 0.7412 - val_loss: 0.3405 - val_accuracy: 0.9167\n",
            "Epoch 138/150\n",
            "62/62 [==============================] - 4s 64ms/step - loss: 0.5261 - accuracy: 0.7366 - val_loss: 0.4089 - val_accuracy: 0.8576\n",
            "Epoch 139/150\n",
            "62/62 [==============================] - 4s 71ms/step - loss: 0.5251 - accuracy: 0.7351 - val_loss: 0.3850 - val_accuracy: 0.8785\n",
            "Epoch 140/150\n",
            "62/62 [==============================] - 4s 63ms/step - loss: 0.5249 - accuracy: 0.7344 - val_loss: 0.3980 - val_accuracy: 0.8715\n",
            "Epoch 141/150\n",
            "62/62 [==============================] - 4s 63ms/step - loss: 0.5227 - accuracy: 0.7376 - val_loss: 0.3964 - val_accuracy: 0.8750\n",
            "Epoch 142/150\n",
            "62/62 [==============================] - 4s 69ms/step - loss: 0.5235 - accuracy: 0.7397 - val_loss: 0.3808 - val_accuracy: 0.8819\n",
            "Epoch 143/150\n",
            "62/62 [==============================] - 4s 66ms/step - loss: 0.5226 - accuracy: 0.7346 - val_loss: 0.3842 - val_accuracy: 0.8785\n",
            "Epoch 144/150\n",
            "62/62 [==============================] - 4s 64ms/step - loss: 0.5219 - accuracy: 0.7381 - val_loss: 0.3977 - val_accuracy: 0.8715\n",
            "Epoch 145/150\n",
            "62/62 [==============================] - 4s 66ms/step - loss: 0.5215 - accuracy: 0.7381 - val_loss: 0.3897 - val_accuracy: 0.8785\n",
            "Epoch 146/150\n",
            "62/62 [==============================] - 4s 67ms/step - loss: 0.5235 - accuracy: 0.7321 - val_loss: 0.4019 - val_accuracy: 0.8646\n",
            "Epoch 147/150\n",
            "62/62 [==============================] - 4s 64ms/step - loss: 0.5218 - accuracy: 0.7321 - val_loss: 0.3809 - val_accuracy: 0.8854\n",
            "Epoch 148/150\n",
            "62/62 [==============================] - 4s 67ms/step - loss: 0.5180 - accuracy: 0.7402 - val_loss: 0.3771 - val_accuracy: 0.8854\n",
            "Epoch 149/150\n",
            "62/62 [==============================] - 4s 69ms/step - loss: 0.5184 - accuracy: 0.7392 - val_loss: 0.3883 - val_accuracy: 0.8750\n",
            "Epoch 150/150\n",
            "62/62 [==============================] - 4s 64ms/step - loss: 0.5179 - accuracy: 0.7381 - val_loss: 0.4264 - val_accuracy: 0.8403\n"
          ]
        },
        {
          "output_type": "execute_result",
          "data": {
            "text/plain": [
              "<keras.callbacks.History at 0x7fde8d69e3d0>"
            ]
          },
          "metadata": {},
          "execution_count": 29
        }
      ]
    },
    {
      "cell_type": "code",
      "source": [
        "modelB.save('my_modelB.h5')"
      ],
      "metadata": {
        "id": "u9wXyz0lI5Pe"
      },
      "execution_count": 30,
      "outputs": []
    },
    {
      "cell_type": "code",
      "source": [
        "modelB.save('/content/drive/MyDrive/models/modelB')\n"
      ],
      "metadata": {
        "colab": {
          "base_uri": "https://localhost:8080/"
        },
        "id": "fRSRHW2xcW7h",
        "outputId": "ea82ba2a-087b-43d0-9860-4ef5643200f3"
      },
      "execution_count": 40,
      "outputs": [
        {
          "output_type": "stream",
          "name": "stderr",
          "text": [
            "WARNING:absl:Found untraced functions such as _jit_compiled_convolution_op, _jit_compiled_convolution_op, _jit_compiled_convolution_op, _jit_compiled_convolution_op, _jit_compiled_convolution_op while saving (showing 5 of 13). These functions will not be directly callable after loading.\n"
          ]
        }
      ]
    }
  ]
}