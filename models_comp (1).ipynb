{
  "nbformat": 4,
  "nbformat_minor": 0,
  "metadata": {
    "colab": {
      "provenance": []
    },
    "kernelspec": {
      "name": "python3",
      "display_name": "Python 3"
    },
    "language_info": {
      "name": "python"
    }
  },
  "cells": [
    {
      "cell_type": "code",
      "execution_count": 1,
      "metadata": {
        "colab": {
          "base_uri": "https://localhost:8080/"
        },
        "id": "TNKSMsa2KNlk",
        "outputId": "95b7d3c4-2635-4231-e82e-805c4b44bd7c"
      },
      "outputs": [
        {
          "output_type": "stream",
          "name": "stdout",
          "text": [
            "Mounted at /content/drive\n"
          ]
        }
      ],
      "source": [
        "#link google colab with google drive\n",
        "from google.colab import drive\n",
        "drive.mount('/content/drive')"
      ]
    },
    {
      "cell_type": "code",
      "source": [
        "#first to import libraries\n",
        "from keras.layers import Input, Lambda, Dense, Flatten, GlobalAveragePooling2D\n",
        "from keras.models import Model\n",
        "from keras.optimizers import SGD\n",
        "from keras.applications.vgg16 import VGG16\n",
        "from keras.applications.vgg16 import preprocess_input\n",
        "from keras.preprocessing import image\n",
        "from keras.preprocessing.image import ImageDataGenerator\n",
        "from keras.models import Sequential\n",
        "import numpy as np\n",
        "from glob import glob\n",
        "import matplotlib.pyplot as plt\n",
        "from sklearn.metrics import classification_report, confusion_matrix\n",
        "\n",
        "\n",
        "import warnings   \n",
        "warnings.filterwarnings(\"ignore\", category=FutureWarning)"
      ],
      "metadata": {
        "id": "79sBVx-ZKXPy"
      },
      "execution_count": 3,
      "outputs": []
    },
    {
      "cell_type": "code",
      "source": [
        "import tensorflow as tf\n",
        "from tensorflow import keras\n",
        "\n",
        "modelA = tf.keras.models.load_model('/content/drive/MyDrive/models/modelA')\n",
        "modelB = tf.keras.models.load_model('/content/drive/MyDrive/models/modelB')"
      ],
      "metadata": {
        "id": "RGr6fLKlKdpI"
      },
      "execution_count": 4,
      "outputs": []
    },
    {
      "cell_type": "code",
      "source": [
        "img_width, img_height = 128, 128\n",
        "batch_size = 32"
      ],
      "metadata": {
        "id": "sjDvUG4OMbcG"
      },
      "execution_count": 5,
      "outputs": []
    },
    {
      "cell_type": "code",
      "source": [
        "val_data_dir = '/content/drive/MyDrive/Data_Small2/SRGAN_images/val'\n",
        "test_data_dir = '/content/drive/MyDrive/Data_Small2/SRGAN_images/test'\n",
        "val_datagen = ImageDataGenerator(rescale=1./255)\n",
        "test_datagen = ImageDataGenerator(rescale=1./255)\n",
        "val_generator = val_datagen.flow_from_directory(\n",
        "        val_data_dir,\n",
        "        target_size=(img_width, img_height),\n",
        "        batch_size=batch_size,\n",
        "        class_mode='categorical')\n",
        "\n",
        "test_generator = test_datagen.flow_from_directory(\n",
        "        test_data_dir,\n",
        "        target_size=(img_width, img_height),\n",
        "        batch_size=batch_size,\n",
        "        class_mode='categorical')"
      ],
      "metadata": {
        "colab": {
          "base_uri": "https://localhost:8080/"
        },
        "id": "RdXpHBf2Lwe-",
        "outputId": "b2bbb399-cb31-4847-bdb7-7510521edb9a"
      },
      "execution_count": 6,
      "outputs": [
        {
          "output_type": "stream",
          "name": "stdout",
          "text": [
            "Found 302 images belonging to 2 classes.\n",
            "Found 514 images belonging to 2 classes.\n"
          ]
        }
      ]
    },
    {
      "cell_type": "code",
      "source": [
        "test_data_dir2 = '/content/drive/MyDrive/Data_Small2/test'\n",
        "test_datagen2 = ImageDataGenerator(rescale=1./255)\n",
        "test_generator2 = test_datagen2.flow_from_directory(\n",
        "        test_data_dir2,\n",
        "        target_size=(img_width, img_height),\n",
        "        batch_size=batch_size,\n",
        "        class_mode='categorical')"
      ],
      "metadata": {
        "colab": {
          "base_uri": "https://localhost:8080/"
        },
        "id": "8ZtY4vPLLJJP",
        "outputId": "cb028001-d9bc-45aa-cbde-93f91cce6031"
      },
      "execution_count": 7,
      "outputs": [
        {
          "output_type": "stream",
          "name": "stdout",
          "text": [
            "Found 514 images belonging to 2 classes.\n"
          ]
        }
      ]
    },
    {
      "cell_type": "code",
      "source": [
        "val_data_dir2 = '/content/drive/MyDrive/Data_Small2/val'\n",
        "val_datagen2 = ImageDataGenerator(rescale=1./255)\n",
        "val_generator2 = val_datagen2.flow_from_directory(\n",
        "        val_data_dir2,\n",
        "        target_size=(img_width, img_height),\n",
        "        batch_size=batch_size,\n",
        "        class_mode='categorical')"
      ],
      "metadata": {
        "colab": {
          "base_uri": "https://localhost:8080/"
        },
        "id": "hcvtZVNkLRT8",
        "outputId": "e51eb6a5-79fa-424d-a496-d9ba14515f13"
      },
      "execution_count": 8,
      "outputs": [
        {
          "output_type": "stream",
          "name": "stdout",
          "text": [
            "Found 507 images belonging to 2 classes.\n"
          ]
        }
      ]
    },
    {
      "cell_type": "code",
      "source": [
        "#Confution Matrix and Classification Report for modelB\n",
        "Y_pred = modelB.predict_generator(val_generator, 514 // batch_size+1)\n",
        "y_pred = np.argmax(Y_pred, axis=1)\n",
        "print('Confusion Matrix')\n",
        "print(confusion_matrix(val_generator.classes, y_pred))\n",
        "print('Classification Report')\n",
        "target_names = ['DME', 'DRUSEN']\n",
        "print(classification_report(val_generator.classes, y_pred, target_names=target_names))"
      ],
      "metadata": {
        "colab": {
          "base_uri": "https://localhost:8080/"
        },
        "id": "1OY42cnLMt_1",
        "outputId": "7a828452-9b2d-48a2-b846-0710e40cd357"
      },
      "execution_count": 9,
      "outputs": [
        {
          "output_type": "stream",
          "name": "stderr",
          "text": [
            "<ipython-input-9-ce3e82d8d48a>:2: UserWarning: `Model.predict_generator` is deprecated and will be removed in a future version. Please use `Model.predict`, which supports generators.\n",
            "  Y_pred = modelB.predict_generator(val_generator, 514 // batch_size+1)\n",
            "WARNING:tensorflow:Your input ran out of data; interrupting training. Make sure that your dataset or generator can generate at least `steps_per_epoch * epochs` batches (in this case, 17 batches). You may need to use the repeat() function when building your dataset.\n"
          ]
        },
        {
          "output_type": "stream",
          "name": "stdout",
          "text": [
            "Confusion Matrix\n",
            "[[253  49]\n",
            " [  0   0]]\n",
            "Classification Report\n",
            "              precision    recall  f1-score   support\n",
            "\n",
            "         DME       1.00      0.84      0.91       302\n",
            "      DRUSEN       0.00      0.00      0.00         0\n",
            "\n",
            "    accuracy                           0.84       302\n",
            "   macro avg       0.50      0.42      0.46       302\n",
            "weighted avg       1.00      0.84      0.91       302\n",
            "\n"
          ]
        },
        {
          "output_type": "stream",
          "name": "stderr",
          "text": [
            "/usr/local/lib/python3.9/dist-packages/sklearn/metrics/_classification.py:1344: UndefinedMetricWarning: Recall and F-score are ill-defined and being set to 0.0 in labels with no true samples. Use `zero_division` parameter to control this behavior.\n",
            "  _warn_prf(average, modifier, msg_start, len(result))\n",
            "/usr/local/lib/python3.9/dist-packages/sklearn/metrics/_classification.py:1344: UndefinedMetricWarning: Recall and F-score are ill-defined and being set to 0.0 in labels with no true samples. Use `zero_division` parameter to control this behavior.\n",
            "  _warn_prf(average, modifier, msg_start, len(result))\n",
            "/usr/local/lib/python3.9/dist-packages/sklearn/metrics/_classification.py:1344: UndefinedMetricWarning: Recall and F-score are ill-defined and being set to 0.0 in labels with no true samples. Use `zero_division` parameter to control this behavior.\n",
            "  _warn_prf(average, modifier, msg_start, len(result))\n"
          ]
        }
      ]
    },
    {
      "cell_type": "code",
      "source": [
        "#Confution Matrix and Classification Report for modelA\n",
        "Y_pred = modelA.predict_generator(val_generator2, 514 // batch_size+1)\n",
        "y_pred = np.argmax(Y_pred, axis=1)\n",
        "print('Confusion Matrix')\n",
        "print(confusion_matrix(val_generator2.classes, y_pred))\n",
        "print('Classification Report')\n",
        "target_names = ['DME', 'DRUSEN']\n",
        "print(classification_report(val_generator2.classes, y_pred, target_names=target_names))"
      ],
      "metadata": {
        "colab": {
          "base_uri": "https://localhost:8080/"
        },
        "id": "142fspVkNAgz",
        "outputId": "dd05a359-fb81-46ab-fe28-f1d799f5635f"
      },
      "execution_count": 10,
      "outputs": [
        {
          "output_type": "stream",
          "name": "stderr",
          "text": [
            "<ipython-input-10-c1496570dd1e>:2: UserWarning: `Model.predict_generator` is deprecated and will be removed in a future version. Please use `Model.predict`, which supports generators.\n",
            "  Y_pred = modelA.predict_generator(val_generator2, 514 // batch_size+1)\n",
            "WARNING:tensorflow:Your input ran out of data; interrupting training. Make sure that your dataset or generator can generate at least `steps_per_epoch * epochs` batches (in this case, 17 batches). You may need to use the repeat() function when building your dataset.\n"
          ]
        },
        {
          "output_type": "stream",
          "name": "stdout",
          "text": [
            "Confusion Matrix\n",
            "[[199 103]\n",
            " [134  71]]\n",
            "Classification Report\n",
            "              precision    recall  f1-score   support\n",
            "\n",
            "         DME       0.60      0.66      0.63       302\n",
            "      DRUSEN       0.41      0.35      0.37       205\n",
            "\n",
            "    accuracy                           0.53       507\n",
            "   macro avg       0.50      0.50      0.50       507\n",
            "weighted avg       0.52      0.53      0.52       507\n",
            "\n"
          ]
        }
      ]
    },
    {
      "cell_type": "code",
      "source": [
        "import numpy as np\n",
        "import matplotlib.pyplot as plt\n",
        "from sklearn.metrics import confusion_matrix\n",
        "from keras.models import load_model\n",
        "\n",
        "# load your trained model\n",
        "model = modelB\n",
        "\n",
        "# generate predictions for your test data\n",
        "y_pred = model.predict_generator(test_generator)\n",
        "\n",
        "# convert predictions to class labels\n",
        "y_pred_labels = np.argmax(y_pred, axis=1)\n",
        "\n",
        "# get true labels from your test generator\n",
        "y_true = test_generator.classes\n",
        "\n",
        "# calculate confusion matrix\n",
        "conf_mat = confusion_matrix(y_true, y_pred_labels)\n",
        "\n",
        "# plot confusion matrix\n",
        "fig, ax = plt.subplots()\n",
        "im = ax.imshow(conf_mat, cmap='Blues')\n",
        "\n",
        "# set tick labels\n",
        "ax.set_xticks(np.arange(len(conf_mat)))\n",
        "ax.set_yticks(np.arange(len(conf_mat)))\n",
        "ax.set_xticklabels(test_generator.class_indices.keys())\n",
        "ax.set_yticklabels(test_generator.class_indices.keys())\n",
        "\n",
        "# set labels for x-axis, y-axis, and color bar\n",
        "ax.set_xlabel('Predicted label')\n",
        "ax.set_ylabel('True label')\n",
        "ax.set_title('Confusion Matrix')\n",
        "fig.colorbar(im)\n",
        "\n",
        "# loop over data dimensions and create text annotations\n",
        "for i in range(len(conf_mat)):\n",
        "    for j in range(len(conf_mat)):\n",
        "        ax.text(j, i, str(conf_mat[i, j]), ha=\"center\", va=\"center\", color=\"w\")\n",
        "\n",
        "# show plot\n",
        "plt.show()\n"
      ],
      "metadata": {
        "colab": {
          "base_uri": "https://localhost:8080/",
          "height": 330
        },
        "id": "7G5m0Qe6NOsy",
        "outputId": "8016f46b-caf3-41ec-b86d-36ef3b60296e"
      },
      "execution_count": 11,
      "outputs": [
        {
          "output_type": "stream",
          "name": "stderr",
          "text": [
            "<ipython-input-11-6c62f6313dc2>:10: UserWarning: `Model.predict_generator` is deprecated and will be removed in a future version. Please use `Model.predict`, which supports generators.\n",
            "  y_pred = model.predict_generator(test_generator)\n"
          ]
        },
        {
          "output_type": "display_data",
          "data": {
            "text/plain": [
              "<Figure size 432x288 with 2 Axes>"
            ],
            "image/png": "[encoded data removed]"
          },
          "metadata": {
            "needs_background": "light"
          }
        }
      ]
    },
    {
      "cell_type": "code",
      "source": [
        "import numpy as np\n",
        "import matplotlib.pyplot as plt\n",
        "from sklearn.metrics import confusion_matrix\n",
        "from keras.models import load_model\n",
        "\n",
        "# load your trained model\n",
        "model = modelA\n",
        "\n",
        "# create your test generator\n",
        "#test_generator = ...\n",
        "\n",
        "# generate predictions for your test data\n",
        "y_pred = model.predict_generator(test_generator2)\n",
        "\n",
        "# convert predictions to class labels\n",
        "y_pred_labels = np.argmax(y_pred, axis=1)\n",
        "\n",
        "# get true labels from your test generator\n",
        "y_true = test_generator2.classes\n",
        "\n",
        "# calculate confusion matrix\n",
        "conf_mat = confusion_matrix(y_true, y_pred_labels)\n",
        "\n",
        "# plot confusion matrix\n",
        "fig, ax = plt.subplots()\n",
        "im = ax.imshow(conf_mat, cmap='Blues')\n",
        "\n",
        "# set tick labels\n",
        "ax.set_xticks(np.arange(len(conf_mat)))\n",
        "ax.set_yticks(np.arange(len(conf_mat)))\n",
        "ax.set_xticklabels(test_generator2.class_indices.keys())\n",
        "ax.set_yticklabels(test_generator2.class_indices.keys())\n",
        "\n",
        "# set labels for x-axis, y-axis, and color bar\n",
        "ax.set_xlabel('Predicted label')\n",
        "ax.set_ylabel('True label')\n",
        "ax.set_title('Confusion Matrix')\n",
        "fig.colorbar(im)\n",
        "\n",
        "# loop over data dimensions and create text annotations\n",
        "for i in range(len(conf_mat)):\n",
        "    for j in range(len(conf_mat)):\n",
        "        ax.text(j, i, str(conf_mat[i, j]), ha=\"center\", va=\"center\", color=\"w\")\n",
        "\n",
        "# show plot\n",
        "plt.show()\n"
      ],
      "metadata": {
        "colab": {
          "base_uri": "https://localhost:8080/",
          "height": 330
        },
        "id": "eeoJPia7NOGE",
        "outputId": "03f6e7c8-167d-46d7-efe8-ce2fa4eed2be"
      },
      "execution_count": 12,
      "outputs": [
        {
          "output_type": "stream",
          "name": "stderr",
          "text": [
            "<ipython-input-12-bfc0b88e6203>:13: UserWarning: `Model.predict_generator` is deprecated and will be removed in a future version. Please use `Model.predict`, which supports generators.\n",
            "  y_pred = model.predict_generator(test_generator2)\n"
          ]
        },
        {
          "output_type": "display_data",
          "data": {
            "text/plain": [
              "<Figure size 432x288 with 2 Axes>"
            ],
            "image/png": "[encoded data removed]"
          },
          "metadata": {
            "needs_background": "light"
          }
        }
      ]
    },
    {
      "cell_type": "code",
      "source": [],
      "metadata": {
        "id": "0NE7RryVP9Qg"
      },
      "execution_count": null,
      "outputs": []
    }
  ]
}